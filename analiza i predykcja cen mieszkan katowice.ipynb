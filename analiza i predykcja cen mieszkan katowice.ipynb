{
 "cells": [
  {
   "cell_type": "code",
   "execution_count": 1,
   "id": "7d7a1905",
   "metadata": {},
   "outputs": [],
   "source": [
    "#imports\n",
    "import pandas as pd\n",
    "import matplotlib.pyplot as plt\n",
    "import seaborn as sns\n",
    "import numpy as np\n",
    "import plotly.express as px\n",
    "from sklearn.linear_model import LinearRegression"
   ]
  },
  {
   "cell_type": "code",
   "execution_count": 2,
   "id": "53901647",
   "metadata": {},
   "outputs": [
    {
     "data": {
      "text/html": [
       "<div>\n",
       "<style scoped>\n",
       "    .dataframe tbody tr th:only-of-type {\n",
       "        vertical-align: middle;\n",
       "    }\n",
       "\n",
       "    .dataframe tbody tr th {\n",
       "        vertical-align: top;\n",
       "    }\n",
       "\n",
       "    .dataframe thead th {\n",
       "        text-align: right;\n",
       "    }\n",
       "</style>\n",
       "<table border=\"1\" class=\"dataframe\">\n",
       "  <thead>\n",
       "    <tr style=\"text-align: right;\">\n",
       "      <th></th>\n",
       "      <th>name</th>\n",
       "      <th>metrage in m2</th>\n",
       "      <th>number of rooms</th>\n",
       "      <th>floor</th>\n",
       "      <th>balcony</th>\n",
       "      <th>price in zl</th>\n",
       "      <th>price per metre in zl</th>\n",
       "    </tr>\n",
       "  </thead>\n",
       "  <tbody>\n",
       "    <tr>\n",
       "      <th>0</th>\n",
       "      <td>Mieszkanie po generalnym remoncie z garażem</td>\n",
       "      <td>Powierzchnia46,5 m²</td>\n",
       "      <td>Liczba pokoi3</td>\n",
       "      <td>Piętro3/4</td>\n",
       "      <td>Balkon / ogród / taraszapytaj</td>\n",
       "      <td>510 000 zł</td>\n",
       "      <td>10 968 zł/m²</td>\n",
       "    </tr>\n",
       "    <tr>\n",
       "      <th>1</th>\n",
       "      <td>Sprzedam Mieszkanie Osiedle Ptasie Katowice Br...</td>\n",
       "      <td>Powierzchnia88 m²</td>\n",
       "      <td>Liczba pokoi4</td>\n",
       "      <td>Piętro1/3</td>\n",
       "      <td>Balkon / ogród / tarasbalkon, taras</td>\n",
       "      <td>779 000 zł</td>\n",
       "      <td>8 852 zł/m²</td>\n",
       "    </tr>\n",
       "    <tr>\n",
       "      <th>2</th>\n",
       "      <td>Sprzedam 3 Pokojowe Mieszkanie 72m2</td>\n",
       "      <td>Powierzchnia72 m²</td>\n",
       "      <td>Liczba pokoi3</td>\n",
       "      <td>Piętro2/2</td>\n",
       "      <td>Balkon / ogród / taraszapytaj</td>\n",
       "      <td>310 000 zł</td>\n",
       "      <td>4 306 zł/m²</td>\n",
       "    </tr>\n",
       "    <tr>\n",
       "      <th>3</th>\n",
       "      <td>Katowice, Asnyka, z antresolą</td>\n",
       "      <td>Powierzchnia82,21 m²</td>\n",
       "      <td>Liczba pokoi3</td>\n",
       "      <td>Piętro2/2</td>\n",
       "      <td>Balkon / ogród / tarasbalkon</td>\n",
       "      <td>597 611 zł</td>\n",
       "      <td>7 269 zł/m²</td>\n",
       "    </tr>\n",
       "    <tr>\n",
       "      <th>4</th>\n",
       "      <td>Z ogrodem 200 m2 i garażem!</td>\n",
       "      <td>Powierzchnia71 m²</td>\n",
       "      <td>Liczba pokoi3</td>\n",
       "      <td>Piętro1/2</td>\n",
       "      <td>Balkon / ogród / tarasogródek</td>\n",
       "      <td>490 000 zł</td>\n",
       "      <td>6 901 zł/m²</td>\n",
       "    </tr>\n",
       "  </tbody>\n",
       "</table>\n",
       "</div>"
      ],
      "text/plain": [
       "                                                name         metrage in m2  \\\n",
       "0        Mieszkanie po generalnym remoncie z garażem   Powierzchnia46,5 m²   \n",
       "1  Sprzedam Mieszkanie Osiedle Ptasie Katowice Br...     Powierzchnia88 m²   \n",
       "2                Sprzedam 3 Pokojowe Mieszkanie 72m2     Powierzchnia72 m²   \n",
       "3                      Katowice, Asnyka, z antresolą  Powierzchnia82,21 m²   \n",
       "4                        Z ogrodem 200 m2 i garażem!     Powierzchnia71 m²   \n",
       "\n",
       "  number of rooms      floor                              balcony price in zl  \\\n",
       "0   Liczba pokoi3  Piętro3/4        Balkon / ogród / taraszapytaj  510 000 zł   \n",
       "1   Liczba pokoi4  Piętro1/3  Balkon / ogród / tarasbalkon, taras  779 000 zł   \n",
       "2   Liczba pokoi3  Piętro2/2        Balkon / ogród / taraszapytaj  310 000 zł   \n",
       "3   Liczba pokoi3  Piętro2/2         Balkon / ogród / tarasbalkon  597 611 zł   \n",
       "4   Liczba pokoi3  Piętro1/2        Balkon / ogród / tarasogródek  490 000 zł   \n",
       "\n",
       "  price per metre in zl  \n",
       "0          10 968 zł/m²  \n",
       "1           8 852 zł/m²  \n",
       "2           4 306 zł/m²  \n",
       "3           7 269 zł/m²  \n",
       "4           6 901 zł/m²  "
      ]
     },
     "execution_count": 2,
     "metadata": {},
     "output_type": "execute_result"
    }
   ],
   "source": [
    "df = pd.read_csv(r\"D:\\python\\projects\\banking_system\\Katowice mieszkania\")\n",
    "df.head()"
   ]
  },
  {
   "cell_type": "code",
   "execution_count": 3,
   "id": "c42f9059",
   "metadata": {},
   "outputs": [
    {
     "name": "stdout",
     "output_type": "stream",
     "text": [
      "<class 'pandas.core.frame.DataFrame'>\n",
      "RangeIndex: 4528 entries, 0 to 4527\n",
      "Data columns (total 7 columns):\n",
      " #   Column                 Non-Null Count  Dtype \n",
      "---  ------                 --------------  ----- \n",
      " 0   name                   4528 non-null   object\n",
      " 1   metrage in m2          4528 non-null   object\n",
      " 2   number of rooms        4528 non-null   object\n",
      " 3   floor                  4528 non-null   object\n",
      " 4   balcony                4528 non-null   object\n",
      " 5   price in zl            4528 non-null   object\n",
      " 6   price per metre in zl  3156 non-null   object\n",
      "dtypes: object(7)\n",
      "memory usage: 247.8+ KB\n"
     ]
    }
   ],
   "source": [
    "df.info()"
   ]
  },
  {
   "cell_type": "code",
   "execution_count": 4,
   "id": "fa3e0320",
   "metadata": {},
   "outputs": [
    {
     "data": {
      "text/html": [
       "<div>\n",
       "<style scoped>\n",
       "    .dataframe tbody tr th:only-of-type {\n",
       "        vertical-align: middle;\n",
       "    }\n",
       "\n",
       "    .dataframe tbody tr th {\n",
       "        vertical-align: top;\n",
       "    }\n",
       "\n",
       "    .dataframe thead th {\n",
       "        text-align: right;\n",
       "    }\n",
       "</style>\n",
       "<table border=\"1\" class=\"dataframe\">\n",
       "  <thead>\n",
       "    <tr style=\"text-align: right;\">\n",
       "      <th></th>\n",
       "      <th>name</th>\n",
       "      <th>metrage in m2</th>\n",
       "      <th>number of rooms</th>\n",
       "      <th>floor</th>\n",
       "      <th>balcony</th>\n",
       "      <th>price in zl</th>\n",
       "      <th>price per metre in zl</th>\n",
       "    </tr>\n",
       "  </thead>\n",
       "  <tbody>\n",
       "    <tr>\n",
       "      <th>0</th>\n",
       "      <td>Mieszkanie po generalnym remoncie z garażem</td>\n",
       "      <td>Powierzchnia46,5 m²</td>\n",
       "      <td>Liczba pokoi3</td>\n",
       "      <td>Piętro3/4</td>\n",
       "      <td>Balkon / ogród / taraszapytaj</td>\n",
       "      <td>510 000 zł</td>\n",
       "      <td>10 968 zł/m²</td>\n",
       "    </tr>\n",
       "    <tr>\n",
       "      <th>1</th>\n",
       "      <td>Sprzedam Mieszkanie Osiedle Ptasie Katowice Br...</td>\n",
       "      <td>Powierzchnia88 m²</td>\n",
       "      <td>Liczba pokoi4</td>\n",
       "      <td>Piętro1/3</td>\n",
       "      <td>Balkon / ogród / tarasbalkon, taras</td>\n",
       "      <td>779 000 zł</td>\n",
       "      <td>8 852 zł/m²</td>\n",
       "    </tr>\n",
       "    <tr>\n",
       "      <th>2</th>\n",
       "      <td>Sprzedam 3 Pokojowe Mieszkanie 72m2</td>\n",
       "      <td>Powierzchnia72 m²</td>\n",
       "      <td>Liczba pokoi3</td>\n",
       "      <td>Piętro2/2</td>\n",
       "      <td>Balkon / ogród / taraszapytaj</td>\n",
       "      <td>310 000 zł</td>\n",
       "      <td>4 306 zł/m²</td>\n",
       "    </tr>\n",
       "    <tr>\n",
       "      <th>3</th>\n",
       "      <td>Katowice, Asnyka, z antresolą</td>\n",
       "      <td>Powierzchnia82,21 m²</td>\n",
       "      <td>Liczba pokoi3</td>\n",
       "      <td>Piętro2/2</td>\n",
       "      <td>Balkon / ogród / tarasbalkon</td>\n",
       "      <td>597 611 zł</td>\n",
       "      <td>7 269 zł/m²</td>\n",
       "    </tr>\n",
       "    <tr>\n",
       "      <th>4</th>\n",
       "      <td>Z ogrodem 200 m2 i garażem!</td>\n",
       "      <td>Powierzchnia71 m²</td>\n",
       "      <td>Liczba pokoi3</td>\n",
       "      <td>Piętro1/2</td>\n",
       "      <td>Balkon / ogród / tarasogródek</td>\n",
       "      <td>490 000 zł</td>\n",
       "      <td>6 901 zł/m²</td>\n",
       "    </tr>\n",
       "  </tbody>\n",
       "</table>\n",
       "</div>"
      ],
      "text/plain": [
       "                                                name         metrage in m2  \\\n",
       "0        Mieszkanie po generalnym remoncie z garażem   Powierzchnia46,5 m²   \n",
       "1  Sprzedam Mieszkanie Osiedle Ptasie Katowice Br...     Powierzchnia88 m²   \n",
       "2                Sprzedam 3 Pokojowe Mieszkanie 72m2     Powierzchnia72 m²   \n",
       "3                      Katowice, Asnyka, z antresolą  Powierzchnia82,21 m²   \n",
       "4                        Z ogrodem 200 m2 i garażem!     Powierzchnia71 m²   \n",
       "\n",
       "  number of rooms      floor                              balcony price in zl  \\\n",
       "0   Liczba pokoi3  Piętro3/4        Balkon / ogród / taraszapytaj  510 000 zł   \n",
       "1   Liczba pokoi4  Piętro1/3  Balkon / ogród / tarasbalkon, taras  779 000 zł   \n",
       "2   Liczba pokoi3  Piętro2/2        Balkon / ogród / taraszapytaj  310 000 zł   \n",
       "3   Liczba pokoi3  Piętro2/2         Balkon / ogród / tarasbalkon  597 611 zł   \n",
       "4   Liczba pokoi3  Piętro1/2        Balkon / ogród / tarasogródek  490 000 zł   \n",
       "\n",
       "  price per metre in zl  \n",
       "0          10 968 zł/m²  \n",
       "1           8 852 zł/m²  \n",
       "2           4 306 zł/m²  \n",
       "3           7 269 zł/m²  \n",
       "4           6 901 zł/m²  "
      ]
     },
     "execution_count": 4,
     "metadata": {},
     "output_type": "execute_result"
    }
   ],
   "source": [
    "df = df.drop_duplicates()\n",
    "df.head()"
   ]
  },
  {
   "cell_type": "code",
   "execution_count": 5,
   "id": "1ed2cdf3",
   "metadata": {},
   "outputs": [
    {
     "name": "stdout",
     "output_type": "stream",
     "text": [
      "<class 'pandas.core.frame.DataFrame'>\n",
      "Int64Index: 3772 entries, 0 to 4525\n",
      "Data columns (total 7 columns):\n",
      " #   Column                 Non-Null Count  Dtype \n",
      "---  ------                 --------------  ----- \n",
      " 0   name                   3772 non-null   object\n",
      " 1   metrage in m2          3772 non-null   object\n",
      " 2   number of rooms        3772 non-null   object\n",
      " 3   floor                  3772 non-null   object\n",
      " 4   balcony                3772 non-null   object\n",
      " 5   price in zl            3772 non-null   object\n",
      " 6   price per metre in zl  2461 non-null   object\n",
      "dtypes: object(7)\n",
      "memory usage: 235.8+ KB\n"
     ]
    }
   ],
   "source": [
    "df.info()"
   ]
  },
  {
   "cell_type": "code",
   "execution_count": 6,
   "id": "05adb6e8",
   "metadata": {},
   "outputs": [
    {
     "name": "stdout",
     "output_type": "stream",
     "text": [
      "<class 'pandas.core.frame.DataFrame'>\n",
      "Int64Index: 2461 entries, 0 to 4525\n",
      "Data columns (total 7 columns):\n",
      " #   Column                 Non-Null Count  Dtype \n",
      "---  ------                 --------------  ----- \n",
      " 0   name                   2461 non-null   object\n",
      " 1   metrage in m2          2461 non-null   object\n",
      " 2   number of rooms        2461 non-null   object\n",
      " 3   floor                  2461 non-null   object\n",
      " 4   balcony                2461 non-null   object\n",
      " 5   price in zl            2461 non-null   object\n",
      " 6   price per metre in zl  2461 non-null   object\n",
      "dtypes: object(7)\n",
      "memory usage: 153.8+ KB\n"
     ]
    }
   ],
   "source": [
    "df = df.dropna()\n",
    "df.info()"
   ]
  },
  {
   "cell_type": "code",
   "execution_count": 7,
   "id": "3b0aa8c5",
   "metadata": {},
   "outputs": [],
   "source": [
    "#metrage\n",
    "old_metrage = df[\"metrage in m2\"]\n",
    "new_metrage = []\n",
    "for x in old_metrage:\n",
    "    x = x.replace(\"Powierzchnia\", \"\")\n",
    "    x = x.replace(\" m²\", \"\")\n",
    "    x = x.replace(\",\", \".\")\n",
    "    new_metrage.append(float(x))\n",
    "df[\"metrage in m2\"] = new_metrage"
   ]
  },
  {
   "cell_type": "code",
   "execution_count": 8,
   "id": "ff1aeccb",
   "metadata": {},
   "outputs": [],
   "source": [
    "#rooms\n",
    "old_number = df[\"number of rooms\"]\n",
    "new_number = []\n",
    "for x in old_number:\n",
    "    x = x.replace(\"Liczba pokoi\", \"\")\n",
    "    x = x.replace(\"więcej niż \", \"10\")\n",
    "    x = x.strip()\n",
    "    new_number.append(int(x))\n",
    "df[\"number of rooms\"] = new_number"
   ]
  },
  {
   "cell_type": "code",
   "execution_count": 9,
   "id": "44668406",
   "metadata": {},
   "outputs": [],
   "source": [
    "#floor\n",
    "old_floor = df[\"floor\"]\n",
    "new_floor = []\n",
    "for x in old_floor:\n",
    "    x = x.replace(\"Piętro\", \"\")\n",
    "    if \"parter\" in x:\n",
    "        x = x.replace(\"parter\", \"0\")\n",
    "    if \"poddasze\" in x:\n",
    "        x = x.replace(\"poddasze\", \"0\")\n",
    "    if \">\" in x:\n",
    "        x = x.replace(\">\", \"\")\n",
    "    x = x.strip()\n",
    "    new_floor.append(x)\n",
    "df[\"floor\"] = new_floor\n",
    "df = df[df[\"floor\"] != \"zapytaj\"] \n",
    "final_floor = []\n",
    "for x in df[\"floor\"]:\n",
    "    final_floor.append(int(x[0]))\n",
    "df[\"floor\"] = final_floor"
   ]
  },
  {
   "cell_type": "code",
   "execution_count": 10,
   "id": "fab2e7cd",
   "metadata": {},
   "outputs": [],
   "source": [
    "#balcony\n",
    "new_balcony = []\n",
    "for x in df[\"balcony\"]:\n",
    "    x = x.replace(\"Balkon / ogród / taras\", \"\")\n",
    "    if x == \"balkon\":\n",
    "        x = 1\n",
    "    else:\n",
    "        x = 0\n",
    "    new_balcony.append(x)\n",
    "df[\"balcony\"] = new_balcony"
   ]
  },
  {
   "cell_type": "code",
   "execution_count": 11,
   "id": "aceb3ca6",
   "metadata": {},
   "outputs": [],
   "source": [
    "#price\n",
    "new_price = []\n",
    "for x in df[\"price in zl\"]:\n",
    "    x = x.replace(\"zł\", \"\")\n",
    "    x = x.replace(\" \", \"\")\n",
    "    x = x.replace(\",\", \".\")\n",
    "    new_price.append(int(float(x)))\n",
    "df[\"price in zl\"] = new_price"
   ]
  },
  {
   "cell_type": "code",
   "execution_count": 12,
   "id": "23c7968f",
   "metadata": {},
   "outputs": [],
   "source": [
    "#price per metre\n",
    "new_price_per_metre = []\n",
    "for x in df[\"price per metre in zl\"]:\n",
    "    x = x.replace(\"zł/м²\", \"\")\n",
    "    x = x.replace(\"zł/m²\", \"\")\n",
    "    x = x.replace(\" \", \"\")\n",
    "    new_price_per_metre.append(int(x))\n",
    "df[\"price per metre in zl\"] = new_price_per_metre"
   ]
  },
  {
   "cell_type": "code",
   "execution_count": 13,
   "id": "3777f6ec",
   "metadata": {},
   "outputs": [
    {
     "data": {
      "text/html": [
       "<div>\n",
       "<style scoped>\n",
       "    .dataframe tbody tr th:only-of-type {\n",
       "        vertical-align: middle;\n",
       "    }\n",
       "\n",
       "    .dataframe tbody tr th {\n",
       "        vertical-align: top;\n",
       "    }\n",
       "\n",
       "    .dataframe thead th {\n",
       "        text-align: right;\n",
       "    }\n",
       "</style>\n",
       "<table border=\"1\" class=\"dataframe\">\n",
       "  <thead>\n",
       "    <tr style=\"text-align: right;\">\n",
       "      <th></th>\n",
       "      <th>name</th>\n",
       "      <th>metrage in m2</th>\n",
       "      <th>number of rooms</th>\n",
       "      <th>floor</th>\n",
       "      <th>balcony</th>\n",
       "      <th>price in zl</th>\n",
       "      <th>price per metre in zl</th>\n",
       "    </tr>\n",
       "  </thead>\n",
       "  <tbody>\n",
       "    <tr>\n",
       "      <th>0</th>\n",
       "      <td>Mieszkanie po generalnym remoncie z garażem</td>\n",
       "      <td>46.50</td>\n",
       "      <td>3</td>\n",
       "      <td>3</td>\n",
       "      <td>0</td>\n",
       "      <td>510000</td>\n",
       "      <td>10968</td>\n",
       "    </tr>\n",
       "    <tr>\n",
       "      <th>1</th>\n",
       "      <td>Sprzedam Mieszkanie Osiedle Ptasie Katowice Br...</td>\n",
       "      <td>88.00</td>\n",
       "      <td>4</td>\n",
       "      <td>1</td>\n",
       "      <td>0</td>\n",
       "      <td>779000</td>\n",
       "      <td>8852</td>\n",
       "    </tr>\n",
       "    <tr>\n",
       "      <th>2</th>\n",
       "      <td>Sprzedam 3 Pokojowe Mieszkanie 72m2</td>\n",
       "      <td>72.00</td>\n",
       "      <td>3</td>\n",
       "      <td>2</td>\n",
       "      <td>0</td>\n",
       "      <td>310000</td>\n",
       "      <td>4306</td>\n",
       "    </tr>\n",
       "    <tr>\n",
       "      <th>3</th>\n",
       "      <td>Katowice, Asnyka, z antresolą</td>\n",
       "      <td>82.21</td>\n",
       "      <td>3</td>\n",
       "      <td>2</td>\n",
       "      <td>1</td>\n",
       "      <td>597611</td>\n",
       "      <td>7269</td>\n",
       "    </tr>\n",
       "    <tr>\n",
       "      <th>4</th>\n",
       "      <td>Z ogrodem 200 m2 i garażem!</td>\n",
       "      <td>71.00</td>\n",
       "      <td>3</td>\n",
       "      <td>1</td>\n",
       "      <td>0</td>\n",
       "      <td>490000</td>\n",
       "      <td>6901</td>\n",
       "    </tr>\n",
       "  </tbody>\n",
       "</table>\n",
       "</div>"
      ],
      "text/plain": [
       "                                                name  metrage in m2  \\\n",
       "0        Mieszkanie po generalnym remoncie z garażem          46.50   \n",
       "1  Sprzedam Mieszkanie Osiedle Ptasie Katowice Br...          88.00   \n",
       "2                Sprzedam 3 Pokojowe Mieszkanie 72m2          72.00   \n",
       "3                      Katowice, Asnyka, z antresolą          82.21   \n",
       "4                        Z ogrodem 200 m2 i garażem!          71.00   \n",
       "\n",
       "   number of rooms  floor  balcony  price in zl  price per metre in zl  \n",
       "0                3      3        0       510000                  10968  \n",
       "1                4      1        0       779000                   8852  \n",
       "2                3      2        0       310000                   4306  \n",
       "3                3      2        1       597611                   7269  \n",
       "4                3      1        0       490000                   6901  "
      ]
     },
     "execution_count": 13,
     "metadata": {},
     "output_type": "execute_result"
    }
   ],
   "source": [
    "df.head()"
   ]
  },
  {
   "cell_type": "code",
   "execution_count": 14,
   "id": "53f271b0",
   "metadata": {},
   "outputs": [
    {
     "data": {
      "text/html": [
       "<div>\n",
       "<style scoped>\n",
       "    .dataframe tbody tr th:only-of-type {\n",
       "        vertical-align: middle;\n",
       "    }\n",
       "\n",
       "    .dataframe tbody tr th {\n",
       "        vertical-align: top;\n",
       "    }\n",
       "\n",
       "    .dataframe thead th {\n",
       "        text-align: right;\n",
       "    }\n",
       "</style>\n",
       "<table border=\"1\" class=\"dataframe\">\n",
       "  <thead>\n",
       "    <tr style=\"text-align: right;\">\n",
       "      <th></th>\n",
       "      <th>name</th>\n",
       "      <th>metrage in m2</th>\n",
       "      <th>floor</th>\n",
       "      <th>balcony</th>\n",
       "      <th>price in zl</th>\n",
       "      <th>price per metre in zl</th>\n",
       "    </tr>\n",
       "    <tr>\n",
       "      <th>number of rooms</th>\n",
       "      <th></th>\n",
       "      <th></th>\n",
       "      <th></th>\n",
       "      <th></th>\n",
       "      <th></th>\n",
       "      <th></th>\n",
       "    </tr>\n",
       "  </thead>\n",
       "  <tbody>\n",
       "    <tr>\n",
       "      <th>1</th>\n",
       "      <td>246</td>\n",
       "      <td>246</td>\n",
       "      <td>246</td>\n",
       "      <td>246</td>\n",
       "      <td>246</td>\n",
       "      <td>246</td>\n",
       "    </tr>\n",
       "    <tr>\n",
       "      <th>2</th>\n",
       "      <td>890</td>\n",
       "      <td>890</td>\n",
       "      <td>890</td>\n",
       "      <td>890</td>\n",
       "      <td>890</td>\n",
       "      <td>890</td>\n",
       "    </tr>\n",
       "    <tr>\n",
       "      <th>3</th>\n",
       "      <td>845</td>\n",
       "      <td>845</td>\n",
       "      <td>845</td>\n",
       "      <td>845</td>\n",
       "      <td>845</td>\n",
       "      <td>845</td>\n",
       "    </tr>\n",
       "    <tr>\n",
       "      <th>4</th>\n",
       "      <td>382</td>\n",
       "      <td>382</td>\n",
       "      <td>382</td>\n",
       "      <td>382</td>\n",
       "      <td>382</td>\n",
       "      <td>382</td>\n",
       "    </tr>\n",
       "    <tr>\n",
       "      <th>5</th>\n",
       "      <td>34</td>\n",
       "      <td>34</td>\n",
       "      <td>34</td>\n",
       "      <td>34</td>\n",
       "      <td>34</td>\n",
       "      <td>34</td>\n",
       "    </tr>\n",
       "    <tr>\n",
       "      <th>6</th>\n",
       "      <td>11</td>\n",
       "      <td>11</td>\n",
       "      <td>11</td>\n",
       "      <td>11</td>\n",
       "      <td>11</td>\n",
       "      <td>11</td>\n",
       "    </tr>\n",
       "    <tr>\n",
       "      <th>7</th>\n",
       "      <td>4</td>\n",
       "      <td>4</td>\n",
       "      <td>4</td>\n",
       "      <td>4</td>\n",
       "      <td>4</td>\n",
       "      <td>4</td>\n",
       "    </tr>\n",
       "    <tr>\n",
       "      <th>8</th>\n",
       "      <td>1</td>\n",
       "      <td>1</td>\n",
       "      <td>1</td>\n",
       "      <td>1</td>\n",
       "      <td>1</td>\n",
       "      <td>1</td>\n",
       "    </tr>\n",
       "    <tr>\n",
       "      <th>9</th>\n",
       "      <td>1</td>\n",
       "      <td>1</td>\n",
       "      <td>1</td>\n",
       "      <td>1</td>\n",
       "      <td>1</td>\n",
       "      <td>1</td>\n",
       "    </tr>\n",
       "    <tr>\n",
       "      <th>1010</th>\n",
       "      <td>4</td>\n",
       "      <td>4</td>\n",
       "      <td>4</td>\n",
       "      <td>4</td>\n",
       "      <td>4</td>\n",
       "      <td>4</td>\n",
       "    </tr>\n",
       "  </tbody>\n",
       "</table>\n",
       "</div>"
      ],
      "text/plain": [
       "                 name  metrage in m2  floor  balcony  price in zl  \\\n",
       "number of rooms                                                     \n",
       "1                 246            246    246      246          246   \n",
       "2                 890            890    890      890          890   \n",
       "3                 845            845    845      845          845   \n",
       "4                 382            382    382      382          382   \n",
       "5                  34             34     34       34           34   \n",
       "6                  11             11     11       11           11   \n",
       "7                   4              4      4        4            4   \n",
       "8                   1              1      1        1            1   \n",
       "9                   1              1      1        1            1   \n",
       "1010                4              4      4        4            4   \n",
       "\n",
       "                 price per metre in zl  \n",
       "number of rooms                         \n",
       "1                                  246  \n",
       "2                                  890  \n",
       "3                                  845  \n",
       "4                                  382  \n",
       "5                                   34  \n",
       "6                                   11  \n",
       "7                                    4  \n",
       "8                                    1  \n",
       "9                                    1  \n",
       "1010                                 4  "
      ]
     },
     "execution_count": 14,
     "metadata": {},
     "output_type": "execute_result"
    }
   ],
   "source": [
    "aparment_rooms = df.groupby(\"number of rooms\").count()\n",
    "aparment_rooms"
   ]
  },
  {
   "cell_type": "code",
   "execution_count": 15,
   "id": "cdfd3252",
   "metadata": {},
   "outputs": [
    {
     "data": {
      "image/png": "[encoded data removed]",
      "text/plain": [
       "<Figure size 720x360 with 1 Axes>"
      ]
     },
     "metadata": {
      "needs_background": "light"
     },
     "output_type": "display_data"
    }
   ],
   "source": [
    "plt.figure(figsize=(10,5))\n",
    "\n",
    "ax = sns.barplot(y=aparment_rooms.name,\n",
    "            x=aparment_rooms.index)\n",
    "\n",
    "plt.xlabel(\"Liczba pokoi\", size=15)\n",
    "plt.ylabel(\"Ilosc mieszkań\", size=15)\n",
    "\n",
    "for i in ax.containers:\n",
    "    ax.bar_label(i,)"
   ]
  },
  {
   "cell_type": "code",
   "execution_count": 24,
   "id": "25955f00",
   "metadata": {},
   "outputs": [
    {
     "data": {
      "text/plain": [
       "number of rooms\n",
       "1        293018.0\n",
       "2        376917.0\n",
       "3        511352.0\n",
       "4        692454.0\n",
       "5        902797.0\n",
       "6        737627.0\n",
       "7       1142500.0\n",
       "8        790000.0\n",
       "9       1290000.0\n",
       "1010    1558500.0\n",
       "Name: price in zl, dtype: float64"
      ]
     },
     "execution_count": 24,
     "metadata": {},
     "output_type": "execute_result"
    }
   ],
   "source": [
    "prize_per_num_rooms = df.groupby(\"number of rooms\")[\"price in zl\"].mean().round(0)\n",
    "prize_per_num_rooms"
   ]
  },
  {
   "cell_type": "code",
   "execution_count": 26,
   "id": "7dab735d",
   "metadata": {},
   "outputs": [
    {
     "data": {
      "image/png": "[encoded data removed]",
      "text/plain": [
       "<Figure size 1152x648 with 1 Axes>"
      ]
     },
     "metadata": {
      "needs_background": "light"
     },
     "output_type": "display_data"
    }
   ],
   "source": [
    "plt.figure(figsize=(16,9))\n",
    "\n",
    "ax = sns.barplot(y=prize_per_num_rooms.values,\n",
    "            x=prize_per_num_rooms.index)\n",
    "\n",
    "plt.xlabel(\"Liczba pokoi\", size=15)\n",
    "plt.ylabel(\"Średnia cena za mieszkanie\", size=15)\n",
    "\n",
    "for i in ax.containers:\n",
    "    ax.bar_label(i,)"
   ]
  },
  {
   "cell_type": "code",
   "execution_count": 18,
   "id": "c52672ad",
   "metadata": {},
   "outputs": [
    {
     "data": {
      "text/plain": [
       "<matplotlib.collections.PathCollection at 0x1903fe746d0>"
      ]
     },
     "execution_count": 18,
     "metadata": {},
     "output_type": "execute_result"
    },
    {
     "data": {
      "image/png": "[encoded data removed]",
      "text/plain": [
       "<Figure size 1152x648 with 1 Axes>"
      ]
     },
     "metadata": {
      "needs_background": "light"
     },
     "output_type": "display_data"
    }
   ],
   "source": [
    "plt.figure(figsize=(16,9))\n",
    "plt.xlabel(\"Cena\", size=15)\n",
    "plt.ylabel(\"Metraż\", size=15)\n",
    "\n",
    "plt.scatter(y=df[\"metrage in m2\"],\n",
    "           x=df[\"price in zl\"])"
   ]
  },
  {
   "cell_type": "code",
   "execution_count": 19,
   "id": "974a2fef",
   "metadata": {},
   "outputs": [
    {
     "data": {
      "text/plain": [
       "1194"
      ]
     },
     "execution_count": 19,
     "metadata": {},
     "output_type": "execute_result"
    }
   ],
   "source": [
    "num_of_balconies = df[df[\"balcony\"] == 1].count()[0]\n",
    "num_of_balconies"
   ]
  },
  {
   "cell_type": "code",
   "execution_count": 20,
   "id": "733d68ef",
   "metadata": {},
   "outputs": [
    {
     "data": {
      "text/html": [
       "<div>\n",
       "<style scoped>\n",
       "    .dataframe tbody tr th:only-of-type {\n",
       "        vertical-align: middle;\n",
       "    }\n",
       "\n",
       "    .dataframe tbody tr th {\n",
       "        vertical-align: top;\n",
       "    }\n",
       "\n",
       "    .dataframe thead th {\n",
       "        text-align: right;\n",
       "    }\n",
       "</style>\n",
       "<table border=\"1\" class=\"dataframe\">\n",
       "  <thead>\n",
       "    <tr style=\"text-align: right;\">\n",
       "      <th></th>\n",
       "      <th>metrage in m2</th>\n",
       "      <th>number of rooms</th>\n",
       "      <th>floor</th>\n",
       "      <th>balcony</th>\n",
       "    </tr>\n",
       "  </thead>\n",
       "  <tbody>\n",
       "    <tr>\n",
       "      <th>0</th>\n",
       "      <td>46.50</td>\n",
       "      <td>3</td>\n",
       "      <td>3</td>\n",
       "      <td>0</td>\n",
       "    </tr>\n",
       "    <tr>\n",
       "      <th>1</th>\n",
       "      <td>88.00</td>\n",
       "      <td>4</td>\n",
       "      <td>1</td>\n",
       "      <td>0</td>\n",
       "    </tr>\n",
       "    <tr>\n",
       "      <th>2</th>\n",
       "      <td>72.00</td>\n",
       "      <td>3</td>\n",
       "      <td>2</td>\n",
       "      <td>0</td>\n",
       "    </tr>\n",
       "    <tr>\n",
       "      <th>3</th>\n",
       "      <td>82.21</td>\n",
       "      <td>3</td>\n",
       "      <td>2</td>\n",
       "      <td>1</td>\n",
       "    </tr>\n",
       "    <tr>\n",
       "      <th>4</th>\n",
       "      <td>71.00</td>\n",
       "      <td>3</td>\n",
       "      <td>1</td>\n",
       "      <td>0</td>\n",
       "    </tr>\n",
       "  </tbody>\n",
       "</table>\n",
       "</div>"
      ],
      "text/plain": [
       "   metrage in m2  number of rooms  floor  balcony\n",
       "0          46.50                3      3        0\n",
       "1          88.00                4      1        0\n",
       "2          72.00                3      2        0\n",
       "3          82.21                3      2        1\n",
       "4          71.00                3      1        0"
      ]
     },
     "execution_count": 20,
     "metadata": {},
     "output_type": "execute_result"
    }
   ],
   "source": [
    "X = df.iloc[:, 1:5]\n",
    "X.head()"
   ]
  },
  {
   "cell_type": "code",
   "execution_count": 21,
   "id": "9f2a12a4",
   "metadata": {},
   "outputs": [
    {
     "data": {
      "text/plain": [
       "0    510000\n",
       "1    779000\n",
       "2    310000\n",
       "3    597611\n",
       "4    490000\n",
       "Name: price in zl, dtype: int64"
      ]
     },
     "execution_count": 21,
     "metadata": {},
     "output_type": "execute_result"
    }
   ],
   "source": [
    "y = df.iloc[:, 5]\n",
    "y.head()"
   ]
  },
  {
   "cell_type": "code",
   "execution_count": 22,
   "id": "d0815a25",
   "metadata": {},
   "outputs": [
    {
     "data": {
      "text/plain": [
       "0.6453008853454493"
      ]
     },
     "execution_count": 22,
     "metadata": {},
     "output_type": "execute_result"
    }
   ],
   "source": [
    "lr = LinearRegression()\n",
    "lr.fit(X,y)\n",
    "lr.score(X,y)"
   ]
  },
  {
   "cell_type": "code",
   "execution_count": 23,
   "id": "0040af9d",
   "metadata": {},
   "outputs": [
    {
     "name": "stdout",
     "output_type": "stream",
     "text": [
      "[454682.94913061]\n"
     ]
    }
   ],
   "source": [
    "my_apartment = np.array([57, 3, 2, 1])\n",
    "my_prediction = lr.predict(my_apartment.reshape(1, -1))\n",
    "print(my_prediction)"
   ]
  },
  {
   "cell_type": "code",
   "execution_count": null,
   "id": "631146ae",
   "metadata": {},
   "outputs": [],
   "source": []
  }
 ],
 "metadata": {
  "kernelspec": {
   "display_name": "Python 3 (ipykernel)",
   "language": "python",
   "name": "python3"
  },
  "language_info": {
   "codemirror_mode": {
    "name": "ipython",
    "version": 3
   },
   "file_extension": ".py",
   "mimetype": "text/x-python",
   "name": "python",
   "nbconvert_exporter": "python",
   "pygments_lexer": "ipython3",
   "version": "3.9.7"
  }
 },
 "nbformat": 4,
 "nbformat_minor": 5
}
